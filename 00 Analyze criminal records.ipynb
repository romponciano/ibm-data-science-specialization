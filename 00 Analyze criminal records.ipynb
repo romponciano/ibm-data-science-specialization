{
 "cells": [
  {
   "cell_type": "markdown",
   "metadata": {},
   "source": [
    "# Criminal Records"
   ]
  },
  {
   "cell_type": "markdown",
   "metadata": {},
   "source": [
    "Imagine a work in Town Hall of a city. Your job is to investigate the best locals to send policy. However, to do it, you need to present solid arguments to others. So, I choose to investigate the criminal records and, based on it, construct models that can predict the type of crime basead on the locals. This way, police can be alocated."
   ]
  },
  {
   "cell_type": "markdown",
   "metadata": {},
   "source": [
    "# Data import description"
   ]
  },
  {
   "cell_type": "code",
   "execution_count": 1,
   "metadata": {},
   "outputs": [
    {
     "name": "stdout",
     "output_type": "stream",
     "text": [
      "Libraries imported.\n"
     ]
    }
   ],
   "source": [
    "import sys\n",
    "import numpy as np\n",
    "import pandas as pd\n",
    "import matplotlib.pyplot as plt\n",
    "import seaborn as sns\n",
    "import folium\n",
    "\n",
    "print('Libraries imported.')"
   ]
  },
  {
   "cell_type": "code",
   "execution_count": 2,
   "metadata": {},
   "outputs": [
    {
     "data": {
      "text/html": [
       "<div>\n",
       "<style scoped>\n",
       "    .dataframe tbody tr th:only-of-type {\n",
       "        vertical-align: middle;\n",
       "    }\n",
       "\n",
       "    .dataframe tbody tr th {\n",
       "        vertical-align: top;\n",
       "    }\n",
       "\n",
       "    .dataframe thead th {\n",
       "        text-align: right;\n",
       "    }\n",
       "</style>\n",
       "<table border=\"1\" class=\"dataframe\">\n",
       "  <thead>\n",
       "    <tr style=\"text-align: right;\">\n",
       "      <th></th>\n",
       "      <th>cdatetime</th>\n",
       "      <th>address</th>\n",
       "      <th>district</th>\n",
       "      <th>beat</th>\n",
       "      <th>grid</th>\n",
       "      <th>crimedescr</th>\n",
       "      <th>ucr_ncic_code</th>\n",
       "      <th>latitude</th>\n",
       "      <th>longitude</th>\n",
       "    </tr>\n",
       "  </thead>\n",
       "  <tbody>\n",
       "    <tr>\n",
       "      <th>0</th>\n",
       "      <td>1/1/06 0:00</td>\n",
       "      <td>3108 OCCIDENTAL DR</td>\n",
       "      <td>3</td>\n",
       "      <td>3C</td>\n",
       "      <td>1115</td>\n",
       "      <td>10851(A)VC TAKE VEH W/O OWNER</td>\n",
       "      <td>2404</td>\n",
       "      <td>38.550420</td>\n",
       "      <td>-121.391416</td>\n",
       "    </tr>\n",
       "    <tr>\n",
       "      <th>1</th>\n",
       "      <td>1/1/06 0:00</td>\n",
       "      <td>2082 EXPEDITION WAY</td>\n",
       "      <td>5</td>\n",
       "      <td>5A</td>\n",
       "      <td>1512</td>\n",
       "      <td>459 PC  BURGLARY RESIDENCE</td>\n",
       "      <td>2204</td>\n",
       "      <td>38.473501</td>\n",
       "      <td>-121.490186</td>\n",
       "    </tr>\n",
       "    <tr>\n",
       "      <th>2</th>\n",
       "      <td>1/1/06 0:00</td>\n",
       "      <td>4 PALEN CT</td>\n",
       "      <td>2</td>\n",
       "      <td>2A</td>\n",
       "      <td>212</td>\n",
       "      <td>10851(A)VC TAKE VEH W/O OWNER</td>\n",
       "      <td>2404</td>\n",
       "      <td>38.657846</td>\n",
       "      <td>-121.462101</td>\n",
       "    </tr>\n",
       "    <tr>\n",
       "      <th>3</th>\n",
       "      <td>1/1/06 0:00</td>\n",
       "      <td>22 BECKFORD CT</td>\n",
       "      <td>6</td>\n",
       "      <td>6C</td>\n",
       "      <td>1443</td>\n",
       "      <td>476 PC PASS FICTICIOUS CHECK</td>\n",
       "      <td>2501</td>\n",
       "      <td>38.506774</td>\n",
       "      <td>-121.426951</td>\n",
       "    </tr>\n",
       "    <tr>\n",
       "      <th>4</th>\n",
       "      <td>1/1/06 0:00</td>\n",
       "      <td>3421 AUBURN BLVD</td>\n",
       "      <td>2</td>\n",
       "      <td>2A</td>\n",
       "      <td>508</td>\n",
       "      <td>459 PC  BURGLARY-UNSPECIFIED</td>\n",
       "      <td>2299</td>\n",
       "      <td>38.637448</td>\n",
       "      <td>-121.384613</td>\n",
       "    </tr>\n",
       "    <tr>\n",
       "      <th>5</th>\n",
       "      <td>1/1/06 0:00</td>\n",
       "      <td>5301 BONNIEMAE WAY</td>\n",
       "      <td>6</td>\n",
       "      <td>6B</td>\n",
       "      <td>1084</td>\n",
       "      <td>530.5 PC USE PERSONAL ID INFO</td>\n",
       "      <td>2604</td>\n",
       "      <td>38.526979</td>\n",
       "      <td>-121.451338</td>\n",
       "    </tr>\n",
       "    <tr>\n",
       "      <th>6</th>\n",
       "      <td>1/1/06 0:00</td>\n",
       "      <td>2217 16TH AVE</td>\n",
       "      <td>4</td>\n",
       "      <td>4A</td>\n",
       "      <td>957</td>\n",
       "      <td>459 PC  BURGLARY VEHICLE</td>\n",
       "      <td>2299</td>\n",
       "      <td>38.537173</td>\n",
       "      <td>-121.487577</td>\n",
       "    </tr>\n",
       "    <tr>\n",
       "      <th>7</th>\n",
       "      <td>1/1/06 0:00</td>\n",
       "      <td>3547 P ST</td>\n",
       "      <td>3</td>\n",
       "      <td>3C</td>\n",
       "      <td>853</td>\n",
       "      <td>484 PC   PETTY THEFT/INSIDE</td>\n",
       "      <td>2308</td>\n",
       "      <td>38.564335</td>\n",
       "      <td>-121.461883</td>\n",
       "    </tr>\n",
       "    <tr>\n",
       "      <th>8</th>\n",
       "      <td>1/1/06 0:00</td>\n",
       "      <td>3421 AUBURN BLVD</td>\n",
       "      <td>2</td>\n",
       "      <td>2A</td>\n",
       "      <td>508</td>\n",
       "      <td>459 PC  BURGLARY BUSINESS</td>\n",
       "      <td>2203</td>\n",
       "      <td>38.637448</td>\n",
       "      <td>-121.384613</td>\n",
       "    </tr>\n",
       "    <tr>\n",
       "      <th>9</th>\n",
       "      <td>1/1/06 0:00</td>\n",
       "      <td>1326 HELMSMAN WAY</td>\n",
       "      <td>1</td>\n",
       "      <td>1B</td>\n",
       "      <td>444</td>\n",
       "      <td>1708 US   THEFT OF MAIL</td>\n",
       "      <td>2310</td>\n",
       "      <td>38.609602</td>\n",
       "      <td>-121.491838</td>\n",
       "    </tr>\n",
       "    <tr>\n",
       "      <th>10</th>\n",
       "      <td>1/1/06 0:00</td>\n",
       "      <td>2315 STOCKTON BLVD</td>\n",
       "      <td>6</td>\n",
       "      <td>6B</td>\n",
       "      <td>1005</td>\n",
       "      <td>ASSAULT WITH WEAPON - I RPT</td>\n",
       "      <td>7000</td>\n",
       "      <td>38.554264</td>\n",
       "      <td>-121.454604</td>\n",
       "    </tr>\n",
       "  </tbody>\n",
       "</table>\n",
       "</div>"
      ],
      "text/plain": [
       "      cdatetime              address  district        beat  grid  \\\n",
       "0   1/1/06 0:00   3108 OCCIDENTAL DR         3  3C          1115   \n",
       "1   1/1/06 0:00  2082 EXPEDITION WAY         5  5A          1512   \n",
       "2   1/1/06 0:00           4 PALEN CT         2  2A           212   \n",
       "3   1/1/06 0:00       22 BECKFORD CT         6  6C          1443   \n",
       "4   1/1/06 0:00     3421 AUBURN BLVD         2  2A           508   \n",
       "5   1/1/06 0:00   5301 BONNIEMAE WAY         6  6B          1084   \n",
       "6   1/1/06 0:00        2217 16TH AVE         4  4A           957   \n",
       "7   1/1/06 0:00            3547 P ST         3  3C           853   \n",
       "8   1/1/06 0:00     3421 AUBURN BLVD         2  2A           508   \n",
       "9   1/1/06 0:00    1326 HELMSMAN WAY         1  1B           444   \n",
       "10  1/1/06 0:00   2315 STOCKTON BLVD         6  6B          1005   \n",
       "\n",
       "                       crimedescr  ucr_ncic_code   latitude   longitude  \n",
       "0   10851(A)VC TAKE VEH W/O OWNER           2404  38.550420 -121.391416  \n",
       "1      459 PC  BURGLARY RESIDENCE           2204  38.473501 -121.490186  \n",
       "2   10851(A)VC TAKE VEH W/O OWNER           2404  38.657846 -121.462101  \n",
       "3    476 PC PASS FICTICIOUS CHECK           2501  38.506774 -121.426951  \n",
       "4    459 PC  BURGLARY-UNSPECIFIED           2299  38.637448 -121.384613  \n",
       "5   530.5 PC USE PERSONAL ID INFO           2604  38.526979 -121.451338  \n",
       "6        459 PC  BURGLARY VEHICLE           2299  38.537173 -121.487577  \n",
       "7     484 PC   PETTY THEFT/INSIDE           2308  38.564335 -121.461883  \n",
       "8       459 PC  BURGLARY BUSINESS           2203  38.637448 -121.384613  \n",
       "9         1708 US   THEFT OF MAIL           2310  38.609602 -121.491838  \n",
       "10    ASSAULT WITH WEAPON - I RPT           7000  38.554264 -121.454604  "
      ]
     },
     "execution_count": 2,
     "metadata": {},
     "output_type": "execute_result"
    }
   ],
   "source": [
    "# load data\n",
    "data = pd.read_csv('http://samplecsvs.s3.amazonaws.com/SacramentocrimeJanuary2006.csv')\n",
    "data.head(11)"
   ]
  },
  {
   "cell_type": "code",
   "execution_count": 3,
   "metadata": {},
   "outputs": [
    {
     "data": {
      "text/html": [
       "<div>\n",
       "<style scoped>\n",
       "    .dataframe tbody tr th:only-of-type {\n",
       "        vertical-align: middle;\n",
       "    }\n",
       "\n",
       "    .dataframe tbody tr th {\n",
       "        vertical-align: top;\n",
       "    }\n",
       "\n",
       "    .dataframe thead th {\n",
       "        text-align: right;\n",
       "    }\n",
       "</style>\n",
       "<table border=\"1\" class=\"dataframe\">\n",
       "  <thead>\n",
       "    <tr style=\"text-align: right;\">\n",
       "      <th></th>\n",
       "      <th>cdatetime</th>\n",
       "      <th>address</th>\n",
       "      <th>district</th>\n",
       "      <th>beat</th>\n",
       "      <th>grid</th>\n",
       "      <th>crimedescr</th>\n",
       "      <th>ucr_ncic_code</th>\n",
       "      <th>latitude</th>\n",
       "      <th>longitude</th>\n",
       "    </tr>\n",
       "  </thead>\n",
       "  <tbody>\n",
       "    <tr>\n",
       "      <th>0</th>\n",
       "      <td>1/1/06 0:00</td>\n",
       "      <td>3108 OCCIDENTAL DR</td>\n",
       "      <td>3</td>\n",
       "      <td>3C</td>\n",
       "      <td>1115</td>\n",
       "      <td>10851(A)VC TAKE VEH W/O OWNER</td>\n",
       "      <td>2404</td>\n",
       "      <td>38.550420</td>\n",
       "      <td>-121.391416</td>\n",
       "    </tr>\n",
       "    <tr>\n",
       "      <th>1</th>\n",
       "      <td>1/1/06 0:00</td>\n",
       "      <td>2082 EXPEDITION WAY</td>\n",
       "      <td>5</td>\n",
       "      <td>5A</td>\n",
       "      <td>1512</td>\n",
       "      <td>459 PC  BURGLARY RESIDENCE</td>\n",
       "      <td>2204</td>\n",
       "      <td>38.473501</td>\n",
       "      <td>-121.490186</td>\n",
       "    </tr>\n",
       "    <tr>\n",
       "      <th>2</th>\n",
       "      <td>1/1/06 0:00</td>\n",
       "      <td>4 PALEN CT</td>\n",
       "      <td>2</td>\n",
       "      <td>2A</td>\n",
       "      <td>212</td>\n",
       "      <td>10851(A)VC TAKE VEH W/O OWNER</td>\n",
       "      <td>2404</td>\n",
       "      <td>38.657846</td>\n",
       "      <td>-121.462101</td>\n",
       "    </tr>\n",
       "    <tr>\n",
       "      <th>3</th>\n",
       "      <td>1/1/06 0:00</td>\n",
       "      <td>22 BECKFORD CT</td>\n",
       "      <td>6</td>\n",
       "      <td>6C</td>\n",
       "      <td>1443</td>\n",
       "      <td>476 PC PASS FICTICIOUS CHECK</td>\n",
       "      <td>2501</td>\n",
       "      <td>38.506774</td>\n",
       "      <td>-121.426951</td>\n",
       "    </tr>\n",
       "    <tr>\n",
       "      <th>4</th>\n",
       "      <td>1/1/06 0:00</td>\n",
       "      <td>3421 AUBURN BLVD</td>\n",
       "      <td>2</td>\n",
       "      <td>2A</td>\n",
       "      <td>508</td>\n",
       "      <td>459 PC  BURGLARY-UNSPECIFIED</td>\n",
       "      <td>2299</td>\n",
       "      <td>38.637448</td>\n",
       "      <td>-121.384613</td>\n",
       "    </tr>\n",
       "  </tbody>\n",
       "</table>\n",
       "</div>"
      ],
      "text/plain": [
       "     cdatetime              address  district        beat  grid  \\\n",
       "0  1/1/06 0:00   3108 OCCIDENTAL DR         3  3C          1115   \n",
       "1  1/1/06 0:00  2082 EXPEDITION WAY         5  5A          1512   \n",
       "2  1/1/06 0:00           4 PALEN CT         2  2A           212   \n",
       "3  1/1/06 0:00       22 BECKFORD CT         6  6C          1443   \n",
       "4  1/1/06 0:00     3421 AUBURN BLVD         2  2A           508   \n",
       "\n",
       "                      crimedescr  ucr_ncic_code   latitude   longitude  \n",
       "0  10851(A)VC TAKE VEH W/O OWNER           2404  38.550420 -121.391416  \n",
       "1     459 PC  BURGLARY RESIDENCE           2204  38.473501 -121.490186  \n",
       "2  10851(A)VC TAKE VEH W/O OWNER           2404  38.657846 -121.462101  \n",
       "3   476 PC PASS FICTICIOUS CHECK           2501  38.506774 -121.426951  \n",
       "4   459 PC  BURGLARY-UNSPECIFIED           2299  38.637448 -121.384613  "
      ]
     },
     "execution_count": 3,
     "metadata": {},
     "output_type": "execute_result"
    }
   ],
   "source": [
    "data.head()"
   ]
  },
  {
   "cell_type": "markdown",
   "metadata": {},
   "source": [
    "This dataset contains rows that describe crime occurrency.  It is splited in 9 columns:\n",
    "- cdatetime is the date when the event occours;\n",
    "- addres is the address where the event occours;\n",
    "- district is a number id of the district;\n",
    "- beat, grid, latiture and longitude are used to point exactly the place of the event;\n",
    "- crimedescr is a string which describe the crime itself;\n",
    "- ucr_ncic_code is the crime code"
   ]
  },
  {
   "cell_type": "code",
   "execution_count": 4,
   "metadata": {},
   "outputs": [
    {
     "data": {
      "text/plain": [
       "(7584, 9)"
      ]
     },
     "execution_count": 4,
     "metadata": {},
     "output_type": "execute_result"
    }
   ],
   "source": [
    "data.shape"
   ]
  },
  {
   "cell_type": "markdown",
   "metadata": {},
   "source": [
    "The data contains 7584 rows of crime events."
   ]
  },
  {
   "cell_type": "code",
   "execution_count": 5,
   "metadata": {},
   "outputs": [
    {
     "data": {
      "text/plain": [
       "cdatetime         object\n",
       "address           object\n",
       "district           int64\n",
       "beat              object\n",
       "grid               int64\n",
       "crimedescr        object\n",
       "ucr_ncic_code      int64\n",
       "latitude         float64\n",
       "longitude        float64\n",
       "dtype: object"
      ]
     },
     "execution_count": 5,
     "metadata": {},
     "output_type": "execute_result"
    }
   ],
   "source": [
    "data.dtypes"
   ]
  },
  {
   "cell_type": "markdown",
   "metadata": {},
   "source": [
    "# Methodology - Clear and preprocess dataset"
   ]
  },
  {
   "cell_type": "code",
   "execution_count": 6,
   "metadata": {},
   "outputs": [
    {
     "data": {
      "text/html": [
       "<div>\n",
       "<style scoped>\n",
       "    .dataframe tbody tr th:only-of-type {\n",
       "        vertical-align: middle;\n",
       "    }\n",
       "\n",
       "    .dataframe tbody tr th {\n",
       "        vertical-align: top;\n",
       "    }\n",
       "\n",
       "    .dataframe thead th {\n",
       "        text-align: right;\n",
       "    }\n",
       "</style>\n",
       "<table border=\"1\" class=\"dataframe\">\n",
       "  <thead>\n",
       "    <tr style=\"text-align: right;\">\n",
       "      <th></th>\n",
       "      <th>cdatetime</th>\n",
       "      <th>address</th>\n",
       "      <th>district</th>\n",
       "      <th>beat</th>\n",
       "      <th>grid</th>\n",
       "      <th>crimedescr</th>\n",
       "      <th>ucr_ncic_code</th>\n",
       "      <th>latitude</th>\n",
       "      <th>longitude</th>\n",
       "      <th>turn</th>\n",
       "    </tr>\n",
       "  </thead>\n",
       "  <tbody>\n",
       "    <tr>\n",
       "      <th>0</th>\n",
       "      <td>2006-01-01</td>\n",
       "      <td>3108 OCCIDENTAL DR</td>\n",
       "      <td>3</td>\n",
       "      <td>3C</td>\n",
       "      <td>1115</td>\n",
       "      <td>10851(A)VC TAKE VEH W/O OWNER</td>\n",
       "      <td>26</td>\n",
       "      <td>38.550420</td>\n",
       "      <td>-121.391416</td>\n",
       "      <td>dawn</td>\n",
       "    </tr>\n",
       "    <tr>\n",
       "      <th>1</th>\n",
       "      <td>2006-01-01</td>\n",
       "      <td>2082 EXPEDITION WAY</td>\n",
       "      <td>5</td>\n",
       "      <td>5A</td>\n",
       "      <td>1512</td>\n",
       "      <td>459 PC  BURGLARY RESIDENCE</td>\n",
       "      <td>13</td>\n",
       "      <td>38.473501</td>\n",
       "      <td>-121.490186</td>\n",
       "      <td>dawn</td>\n",
       "    </tr>\n",
       "    <tr>\n",
       "      <th>2</th>\n",
       "      <td>2006-01-01</td>\n",
       "      <td>4 PALEN CT</td>\n",
       "      <td>2</td>\n",
       "      <td>2A</td>\n",
       "      <td>212</td>\n",
       "      <td>10851(A)VC TAKE VEH W/O OWNER</td>\n",
       "      <td>26</td>\n",
       "      <td>38.657846</td>\n",
       "      <td>-121.462101</td>\n",
       "      <td>dawn</td>\n",
       "    </tr>\n",
       "    <tr>\n",
       "      <th>3</th>\n",
       "      <td>2006-01-01</td>\n",
       "      <td>22 BECKFORD CT</td>\n",
       "      <td>6</td>\n",
       "      <td>6C</td>\n",
       "      <td>1443</td>\n",
       "      <td>476 PC PASS FICTICIOUS CHECK</td>\n",
       "      <td>27</td>\n",
       "      <td>38.506774</td>\n",
       "      <td>-121.426951</td>\n",
       "      <td>dawn</td>\n",
       "    </tr>\n",
       "    <tr>\n",
       "      <th>4</th>\n",
       "      <td>2006-01-01</td>\n",
       "      <td>3421 AUBURN BLVD</td>\n",
       "      <td>2</td>\n",
       "      <td>2A</td>\n",
       "      <td>508</td>\n",
       "      <td>459 PC  BURGLARY-UNSPECIFIED</td>\n",
       "      <td>15</td>\n",
       "      <td>38.637448</td>\n",
       "      <td>-121.384613</td>\n",
       "      <td>dawn</td>\n",
       "    </tr>\n",
       "  </tbody>\n",
       "</table>\n",
       "</div>"
      ],
      "text/plain": [
       "    cdatetime              address  district        beat  grid  \\\n",
       "0  2006-01-01   3108 OCCIDENTAL DR         3  3C          1115   \n",
       "1  2006-01-01  2082 EXPEDITION WAY         5  5A          1512   \n",
       "2  2006-01-01           4 PALEN CT         2  2A           212   \n",
       "3  2006-01-01       22 BECKFORD CT         6  6C          1443   \n",
       "4  2006-01-01     3421 AUBURN BLVD         2  2A           508   \n",
       "\n",
       "                      crimedescr  ucr_ncic_code   latitude   longitude  turn  \n",
       "0  10851(A)VC TAKE VEH W/O OWNER             26  38.550420 -121.391416  dawn  \n",
       "1     459 PC  BURGLARY RESIDENCE             13  38.473501 -121.490186  dawn  \n",
       "2  10851(A)VC TAKE VEH W/O OWNER             26  38.657846 -121.462101  dawn  \n",
       "3   476 PC PASS FICTICIOUS CHECK             27  38.506774 -121.426951  dawn  \n",
       "4   459 PC  BURGLARY-UNSPECIFIED             15  38.637448 -121.384613  dawn  "
      ]
     },
     "execution_count": 6,
     "metadata": {},
     "output_type": "execute_result"
    }
   ],
   "source": [
    "# convert cdatatime to datetime\n",
    "data['cdatetime'] = pd.to_datetime(data.cdatetime)\n",
    "# split cdatetime into date and time columns. It will be used to know the turn which the event occours\n",
    "data['turn'] = [d.time() for d in data['cdatetime']]\n",
    "data['cdatetime'] = [d.date() for d in data['cdatetime']]\n",
    "# discretize turn column\n",
    "time = pd.to_datetime(data['turn'], format='%H:%M:%S').dt.hour\n",
    "data['turn'] = pd.cut(time, \n",
    "                    bins=[0,6,12,18,24], \n",
    "                    include_lowest=True, \n",
    "                    labels=['dawn','morning','evening','night'])\n",
    "#  categorize ucr_ncic_code\n",
    "data[\"ucr_ncic_code\"] = data[\"ucr_ncic_code\"].astype('category').cat.codes\n",
    "\n",
    "# see result\n",
    "data.head()"
   ]
  },
  {
   "cell_type": "code",
   "execution_count": 7,
   "metadata": {},
   "outputs": [
    {
     "data": {
      "text/plain": [
       "cdatetime          object\n",
       "address            object\n",
       "district            int64\n",
       "beat               object\n",
       "grid                int64\n",
       "crimedescr         object\n",
       "ucr_ncic_code        int8\n",
       "latitude          float64\n",
       "longitude         float64\n",
       "turn             category\n",
       "dtype: object"
      ]
     },
     "execution_count": 7,
     "metadata": {},
     "output_type": "execute_result"
    }
   ],
   "source": [
    "data.dtypes"
   ]
  },
  {
   "cell_type": "markdown",
   "metadata": {},
   "source": [
    "## Understanding data"
   ]
  },
  {
   "cell_type": "code",
   "execution_count": 8,
   "metadata": {
    "scrolled": true
   },
   "outputs": [
    {
     "data": {
      "text/plain": [
       "<matplotlib.axes._subplots.AxesSubplot at 0x214be4ad880>"
      ]
     },
     "execution_count": 8,
     "metadata": {},
     "output_type": "execute_result"
    },
    {
     "data": {
      "image/png": "[encoded data removed]",
      "text/plain": [
       "<Figure size 432x288 with 1 Axes>"
      ]
     },
     "metadata": {
      "needs_background": "light"
     },
     "output_type": "display_data"
    }
   ],
   "source": [
    "sns.barplot(x=data.turn.unique(), y=data.turn.value_counts())"
   ]
  },
  {
   "cell_type": "markdown",
   "metadata": {},
   "source": [
    "We can see that most crimes occours in dawn and morning (2500 + ~2000 = 4500 of 7584 events). It can be used to determine the best turn to place policies. But, we can also see that all turn are dungerous, because none of them are below 1000 events of crime.\n",
    "This type of plot can revel similar information for others columns, such as district and crime type."
   ]
  },
  {
   "cell_type": "code",
   "execution_count": 9,
   "metadata": {},
   "outputs": [
    {
     "data": {
      "text/plain": [
       "83    2470\n",
       "26     881\n",
       "15     474\n",
       "77     357\n",
       "13     356\n",
       "38     356\n",
       "25     262\n",
       "9      225\n",
       "18     176\n",
       "6      146\n",
       "22     140\n",
       "12     135\n",
       "78     133\n",
       "49     129\n",
       "79     105\n",
       "8       99\n",
       "34      97\n",
       "33      94\n",
       "40      66\n",
       "47      58\n",
       "Name: ucr_ncic_code, dtype: int64"
      ]
     },
     "execution_count": 9,
     "metadata": {},
     "output_type": "execute_result"
    }
   ],
   "source": [
    "data.ucr_ncic_code.value_counts().head(20)"
   ]
  },
  {
   "cell_type": "markdown",
   "metadata": {},
   "source": [
    "If we observe top 20 crime types, we will see that crime type 83 is the most commited."
   ]
  },
  {
   "cell_type": "markdown",
   "metadata": {},
   "source": [
    "# Results and discussion"
   ]
  },
  {
   "cell_type": "markdown",
   "metadata": {},
   "source": [
    "With this analyse, we can alocate policy to the locals where the crimes 83, 26, 15, 77, and 13 occour."
   ]
  },
  {
   "cell_type": "code",
   "execution_count": 10,
   "metadata": {},
   "outputs": [
    {
     "data": {
      "text/plain": [
       "3555 AUBURN BLVD                 46\n",
       "2750 SUTTERVILLE RD              25\n",
       "1689 ARDEN WAY                   17\n",
       "FRANKLIN BLVD / FRUITRIDGE RD    16\n",
       "5770 FREEPORT BLVD               16\n",
       "2250 68TH AVE                    15\n",
       "5303 FRANKLIN BLVD               14\n",
       "MACK RD / VALLEY HI DR           10\n",
       "3550 MARYSVILLE BLVD             10\n",
       "715 L ST                         10\n",
       "6879 14TH AVE                    10\n",
       "1701 SUTTERVILLE RD               9\n",
       "3301 FONG RANCH RD                9\n",
       "7767 LA RIVIERA DR                9\n",
       "6715 GLORIA DR                    9\n",
       "15 CARTHAGE CT                    8\n",
       "MARYSVILLE BLVD / ARCADE BLVD     8\n",
       "BROADWAY / STOCKTON BLVD          8\n",
       "4100 NORTHGATE BLVD               8\n",
       "545 K ST                          7\n",
       "Name: address, dtype: int64"
      ]
     },
     "execution_count": 10,
     "metadata": {},
     "output_type": "execute_result"
    }
   ],
   "source": [
    "crime_codes = ['83', '26', '15', '77', '13']\n",
    "df_locals = data[data.ucr_ncic_code.isin(crime_codes)]\n",
    "\n",
    "df_locals.address.value_counts().head(20)"
   ]
  },
  {
   "cell_type": "markdown",
   "metadata": {},
   "source": [
    "The top 11 are the address with more need."
   ]
  },
  {
   "cell_type": "code",
   "execution_count": 11,
   "metadata": {},
   "outputs": [
    {
     "data": {
      "text/plain": [
       "3555 AUBURN BLVD                 46\n",
       "2750 SUTTERVILLE RD              25\n",
       "1689 ARDEN WAY                   17\n",
       "FRANKLIN BLVD / FRUITRIDGE RD    16\n",
       "5770 FREEPORT BLVD               16\n",
       "2250 68TH AVE                    15\n",
       "5303 FRANKLIN BLVD               14\n",
       "MACK RD / VALLEY HI DR           10\n",
       "3550 MARYSVILLE BLVD             10\n",
       "715 L ST                         10\n",
       "6879 14TH AVE                    10\n",
       "Name: address, dtype: int64"
      ]
     },
     "execution_count": 11,
     "metadata": {},
     "output_type": "execute_result"
    }
   ],
   "source": [
    "df_locals.address.value_counts().head(11)"
   ]
  },
  {
   "cell_type": "markdown",
   "metadata": {},
   "source": [
    "# Conclusion"
   ]
  },
  {
   "cell_type": "markdown",
   "metadata": {},
   "source": [
    "We can send policies to this 11 address and it should reduce the crime records of the next month. It is just possible because of the analysis we made."
   ]
  }
 ],
 "metadata": {
  "kernelspec": {
   "display_name": "Python 3",
   "language": "python",
   "name": "python3"
  },
  "language_info": {
   "codemirror_mode": {
    "name": "ipython",
    "version": 3
   },
   "file_extension": ".py",
   "mimetype": "text/x-python",
   "name": "python",
   "nbconvert_exporter": "python",
   "pygments_lexer": "ipython3",
   "version": "3.8.3"
  }
 },
 "nbformat": 4,
 "nbformat_minor": 2
}
